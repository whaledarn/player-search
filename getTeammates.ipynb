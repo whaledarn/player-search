{
 "cells": [
  {
   "cell_type": "code",
   "execution_count": 281,
   "metadata": {},
   "outputs": [
    {
     "name": "stdout",
     "output_type": "stream",
     "text": [
      "Requirement already satisfied: requests in /opt/jupyterhub/pyvenv/lib/python3.6/site-packages (2.24.0)\n",
      "Requirement already satisfied: chardet<4,>=3.0.2 in /opt/jupyterhub/pyvenv/lib/python3.6/site-packages (from requests) (3.0.4)\n",
      "Requirement already satisfied: certifi>=2017.4.17 in /opt/jupyterhub/pyvenv/lib/python3.6/site-packages (from requests) (2020.6.20)\n",
      "Requirement already satisfied: idna<3,>=2.5 in /opt/jupyterhub/pyvenv/lib/python3.6/site-packages (from requests) (2.10)\n",
      "Requirement already satisfied: urllib3!=1.25.0,!=1.25.1,<1.26,>=1.21.1 in /opt/jupyterhub/pyvenv/lib/python3.6/site-packages (from requests) (1.25.10)\n",
      "\u001b[33mYou are using pip version 19.0, however version 21.3.1 is available.\n",
      "You should consider upgrading via the 'pip install --upgrade pip' command.\u001b[0m\n",
      "Collecting beautifulsoup\n",
      "  Using cached https://files.pythonhosted.org/packages/40/f2/6c9f2f3e696ee6a1fb0e4d7850617e224ed2b0b1e872110abffeca2a09d4/BeautifulSoup-3.2.2.tar.gz\n",
      "    Complete output from command python setup.py egg_info:\n",
      "    Traceback (most recent call last):\n",
      "      File \"<string>\", line 1, in <module>\n",
      "      File \"/tmp/pip-install-b6u4dfrf/beautifulsoup/setup.py\", line 3\n",
      "        \"You're trying to run a very old release of Beautiful Soup under Python 3. This will not work.\"<>\"Please use Beautiful Soup 4, available through the pip package 'beautifulsoup4'.\"\n",
      "                                                                                                        ^\n",
      "    SyntaxError: invalid syntax\n",
      "    \n",
      "    ----------------------------------------\n",
      "\u001b[31mCommand \"python setup.py egg_info\" failed with error code 1 in /tmp/pip-install-b6u4dfrf/beautifulsoup/\u001b[0m\n",
      "\u001b[33mYou are using pip version 19.0, however version 21.3.1 is available.\n",
      "You should consider upgrading via the 'pip install --upgrade pip' command.\u001b[0m\n"
     ]
    }
   ],
   "source": [
    "!pip install requests\n",
    "!pip install beautifulsoup\n",
    "from bs4 import BeautifulSoup, Comment\n",
    "import pandas as pd\n",
    "import sys\n",
    "import requests\n",
    "import re\n"
   ]
  },
  {
   "cell_type": "code",
   "execution_count": 292,
   "metadata": {},
   "outputs": [],
   "source": [
    "url_temp = \"https://www.basketball-reference.com/friv/teammates_and_opponents.fcgi?pid={}&type=t\""
   ]
  },
  {
   "cell_type": "code",
   "execution_count": 520,
   "metadata": {},
   "outputs": [],
   "source": [
    "all_players = pd.read_csv(\"BBRefIDs.csv\")\n",
    "all_players = all_players[\"BBRefID\"] #get all the ids\n",
    "player_names = pd.read_csv(\"BBRefIDs.csv\")['BBRefName']"
   ]
  },
  {
   "cell_type": "code",
   "execution_count": 521,
   "metadata": {},
   "outputs": [],
   "source": [
    "all_players = all_players.to_frame()"
   ]
  },
  {
   "cell_type": "code",
   "execution_count": 522,
   "metadata": {},
   "outputs": [],
   "source": [
    "all_players[\"Name\"] = player_names\n",
    "all_players[\"value\"] = 9999\n",
    "all_players[\"previous\"] = \"null\"\n",
    "all_players[\"visited\"] = False\n",
    "all_players = all_players.set_index(\"BBRefID\")\n",
    "permanent_all_players = all_players.copy()"
   ]
  },
  {
   "cell_type": "code",
   "execution_count": 523,
   "metadata": {},
   "outputs": [],
   "source": [
    "def getTeammates(idP):\n",
    "    url = url_temp.format(idP)\n",
    "#     print(url)\n",
    "    data = requests.get(url)\n",
    "    with open(\"data.html\", \"w+\") as f:\n",
    "        f.write(data.text)\n",
    "    with open(\"data.html\") as f:\n",
    "        page = f.read();\n",
    "        soup = BeautifulSoup(page, \"html.parser\");      \n",
    "        x = soup.find_all('tr', {\"class\":\"thead\"})\n",
    "        y = soup.find_all('tr', {\"class\":\"over_header\"})\n",
    "        for a in x:\n",
    "            a.decompose()\n",
    "        for a in y:\n",
    "            a.decompose()\n",
    "        teammates = str(soup.find(\"table\",{'id':\"teammates-and-opponents\"}))\n",
    "        teammate_ids = [m.start() for m in re.finditer('/players/', teammates)]\n",
    "        result = re.findall('/players/(.*)/(.*).html', teammates)\n",
    "        teammates_data = []\n",
    "        for r in result:\n",
    "            teammates_data.append(r[1])\n",
    "    return teammates_data"
   ]
  },
  {
   "cell_type": "code",
   "execution_count": 524,
   "metadata": {},
   "outputs": [],
   "source": [
    "def recAdd(playerID, count):\n",
    "#     print(\"adding\")\n",
    "    teammateList = getTeammates(playerID)\n",
    "    if((last in teammateList) == True):\n",
    "        found = True;\n",
    "        all_players.at[last,'value'] = count\n",
    "        all_players.at[last,'previous'] = playerID\n",
    "        print(count)\n",
    "        print(\"found it!\")\n",
    "        return True\n",
    "    for teammate in teammateList:\n",
    "        if((teammate in all_players.index) == False):\n",
    "            return False\n",
    "        if(count<all_players.loc[teammate]['value']): # if new shortest path, update previous\n",
    "            all_players.at[teammate,'value'] = count #update the path count\n",
    "            all_players.at[teammate,'previous'] = playerID #update previous\n",
    "        if(all_players.loc[teammate]['visited'] == False): # if we havent visited this neighbor, then do the same shit\n",
    "#             print(\"appending \"+teammate)\n",
    "            visit.append(teammate)\n",
    "            all_players.at[teammate,'visited'] = True\n",
    "            \n",
    "            "
   ]
  },
  {
   "cell_type": "code",
   "execution_count": 525,
   "metadata": {
    "scrolled": true
   },
   "outputs": [
    {
     "data": {
      "text/plain": [
       "['walljo01',\n",
       " 'gortama01',\n",
       " 'porteot01',\n",
       " 'oubreke01',\n",
       " 'satorto01',\n",
       " 'morrima02',\n",
       " 'hilarne01',\n",
       " 'templga01',\n",
       " 'mahinia01',\n",
       " 'serapke01',\n",
       " 'arizatr01',\n",
       " 'webstma02',\n",
       " 'bertada01',\n",
       " 'smithja02',\n",
       " 'bryanth01',\n",
       " 'browntr01',\n",
       " 'booketr01',\n",
       " 'hachiru01',\n",
       " 'goodedr01',\n",
       " 'sessira01',\n",
       " 'smithis01',\n",
       " 'netora01',\n",
       " 'bongais01',\n",
       " 'avdijde01',\n",
       " 'scottmi01',\n",
       " 'millean02',\n",
       " 'meeksjo01',\n",
       " 'greenje02',\n",
       " 'mathega01',\n",
       " 'piercpa01',\n",
       " 'lopezro01',\n",
       " 'humphkr01',\n",
       " 'butlera01',\n",
       " 'fraziti01',\n",
       " 'gaffoda01',\n",
       " 'westbru01',\n",
       " 'wagnemo01',\n",
       " 'veselja01',\n",
       " 'singlch01',\n",
       " 'okafoem01',\n",
       " 'burketr01',\n",
       " 'dudleja01',\n",
       " 'lenal01',\n",
       " 'randlch01',\n",
       " 'mcraejo01',\n",
       " 'gillan01',\n",
       " 'harrial01',\n",
       " 'caldwke01',\n",
       " 'priceaj01',\n",
       " 'thornma01',\n",
       " 'dekkesa01',\n",
       " 'bogdabo02',\n",
       " 'kuzmaky01',\n",
       " 'crawfjo02',\n",
       " 'blairde01',\n",
       " 'kispeco01',\n",
       " 'jennibr01',\n",
       " 'harremo01',\n",
       " 'thomais02',\n",
       " 'mcclesh01',\n",
       " 'holidaa01',\n",
       " 'dinwisp01',\n",
       " 'riverau01',\n",
       " 'portibo01',\n",
       " 'robinje01',\n",
       " 'nichoan01',\n",
       " 'paytoga02',\n",
       " 'parkeja01',\n",
       " 'nealga01',\n",
       " 'winstca01',\n",
       " 'martica01',\n",
       " 'schofad01',\n",
       " 'ochefda01',\n",
       " 'mcculch01',\n",
       " 'pasecan01',\n",
       " 'napiesh01',\n",
       " 'eddieja01',\n",
       " 'maynoer01',\n",
       " 'livinsh01',\n",
       " 'hutchch01',\n",
       " 'johnswe01',\n",
       " 'hicksjj01',\n",
       " 'milescj01',\n",
       " 'chiozch01',\n",
       " 'barroea01',\n",
       " 'anderal01',\n",
       " 'bynumwi01',\n",
       " 'robinju01',\n",
       " 'howardw01',\n",
       " 'robinde01',\n",
       " 'toddis01',\n",
       " 'pargoja01',\n",
       " 'willijo04',\n",
       " 'macksh01',\n",
       " 'ayayijo01',\n",
       " 'belljo01',\n",
       " 'lawsoty01',\n",
       " 'ricegl02',\n",
       " 'holliry01',\n",
       " 'bakerro01',\n",
       " 'jenkijo01',\n",
       " 'murryto01',\n",
       " 'whiteok01',\n",
       " 'collija04',\n",
       " 'monrogr01',\n",
       " 'swordcr01',\n",
       " 'johnsal02',\n",
       " 'schakjo01',\n",
       " 'wanambr01',\n",
       " 'echenja01',\n",
       " 'goodwjo01',\n",
       " 'watertr01']"
      ]
     },
     "execution_count": 525,
     "metadata": {},
     "output_type": "execute_result"
    }
   ],
   "source": [
    "getTeammates(\"bealbr01\")"
   ]
  },
  {
   "cell_type": "code",
   "execution_count": 549,
   "metadata": {},
   "outputs": [],
   "source": [
    "first = \"zelleco01\"\n",
    "last = \"mitchdo01\"\n",
    "all_players = permanent_all_players.copy()\n",
    "found = False\n",
    "visit = [];"
   ]
  },
  {
   "cell_type": "code",
   "execution_count": 550,
   "metadata": {},
   "outputs": [
    {
     "name": "stdout",
     "output_type": "stream",
     "text": [
      "Looking for path\n",
      "3\n",
      "found it!\n",
      "Donovan Mitchell played with Alec Burks\n",
      "Alec Burks played with Kemba Walker\n",
      "and Kemba Walker played with Cody Zeller\n"
     ]
    }
   ],
   "source": [
    "all_players.at[first,\"value\"] = 0;\n",
    "visit.append(first)\n",
    "print(\"Looking for path\")\n",
    "while(len(visit)>0 and found == False):\n",
    "    player_to_test = visit[0];\n",
    "    visit.remove(player_to_test)\n",
    "    x = recAdd(player_to_test,all_players.loc[player_to_test]['value']+1)\n",
    "    if(x == True):\n",
    "        break\n",
    "\n",
    "previous = last\n",
    "current = all_players.loc[last][\"previous\"]\n",
    "\n",
    "while(True):\n",
    "    print(all_players.loc[previous][\"Name\"] + \" played with \" + all_players.loc[current][\"Name\"])\n",
    "    previous = current\n",
    "    current = all_players.loc[previous][\"previous\"]\n",
    "    if(current==first):\n",
    "        print(\"and \"+all_players.loc[previous][\"Name\"] + \" played with \" + all_players.loc[current][\"Name\"])\n",
    "        break"
   ]
  },
  {
   "cell_type": "code",
   "execution_count": null,
   "metadata": {},
   "outputs": [],
   "source": []
  },
  {
   "cell_type": "code",
   "execution_count": null,
   "metadata": {},
   "outputs": [],
   "source": []
  }
 ],
 "metadata": {
  "kernelspec": {
   "display_name": "Python 3",
   "language": "python",
   "name": "python3"
  },
  "language_info": {
   "codemirror_mode": {
    "name": "ipython",
    "version": 3
   },
   "file_extension": ".py",
   "mimetype": "text/x-python",
   "name": "python",
   "nbconvert_exporter": "python",
   "pygments_lexer": "ipython3",
   "version": "3.6.9"
  }
 },
 "nbformat": 4,
 "nbformat_minor": 4
}
